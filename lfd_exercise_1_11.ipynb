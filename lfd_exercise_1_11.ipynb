{
  "nbformat": 4,
  "nbformat_minor": 0,
  "metadata": {
    "colab": {
      "name": "lfd exercise 1.11",
      "provenance": [],
      "authorship_tag": "ABX9TyORe+owqWRBXyj0S97SiAkE",
      "include_colab_link": true
    },
    "kernelspec": {
      "name": "python3",
      "display_name": "Python 3"
    },
    "accelerator": "GPU"
  },
  "cells": [
    {
      "cell_type": "markdown",
      "metadata": {
        "id": "view-in-github",
        "colab_type": "text"
      },
      "source": [
        "<a href=\"https://colab.research.google.com/github/imitationmask/learning-from-data/blob/main/lfd_exercise_1_11.ipynb\" target=\"_parent\"><img src=\"https://colab.research.google.com/assets/colab-badge.svg\" alt=\"Open In Colab\"/></a>"
      ]
    },
    {
      "cell_type": "markdown",
      "metadata": {
        "id": "6ou9DWah1DTH"
      },
      "source": [
        "**(c) If p = 0.9, what is the probability that S will produce a better hypothesis than C?**"
      ]
    },
    {
      "cell_type": "markdown",
      "metadata": {
        "id": "zVu-4qDsb0sL"
      },
      "source": [
        "\n",
        "probability = $\\sum_{i=13}^{25} C_{i}^{25} *p^i*(1-p)^{(25-i)}$\n"
      ]
    },
    {
      "cell_type": "code",
      "metadata": {
        "id": "QqLj5--Md2x_",
        "outputId": "d91c567a-6383-4b8f-f75e-455e1c28bff3",
        "colab": {
          "base_uri": "https://localhost:8080/"
        }
      },
      "source": [
        "from scipy.special import comb\n",
        "proba = .0\n",
        "for i in range(13, 26):\n",
        "  proba += comb(25, i) * .9**i * (1-.9)**(25-i)\n",
        "proba"
      ],
      "execution_count": 6,
      "outputs": [
        {
          "output_type": "execute_result",
          "data": {
            "text/plain": [
              "0.9999998379165841"
            ]
          },
          "metadata": {
            "tags": []
          },
          "execution_count": 6
        }
      ]
    },
    {
      "cell_type": "markdown",
      "metadata": {
        "id": "_-xGZGEQrXPD"
      },
      "source": [
        "**(d) Is there any value of p for which it is more likely than not that C (crazy) will produce a better hypothesis than S (smart)?**"
      ]
    },
    {
      "cell_type": "code",
      "metadata": {
        "id": "bWJEwUdLsoph",
        "outputId": "dfb5e262-c3fd-42f3-aa06-c9ec6199041c",
        "colab": {
          "base_uri": "https://localhost:8080/"
        }
      },
      "source": [
        "proba = .0\n",
        "p = .5\n",
        "for i in range(13, 26):\n",
        "  proba += comb(25, i) * p**i * (1-p)**(25-i)\n",
        "proba"
      ],
      "execution_count": 24,
      "outputs": [
        {
          "output_type": "execute_result",
          "data": {
            "text/plain": [
              "0.5"
            ]
          },
          "metadata": {
            "tags": []
          },
          "execution_count": 24
        }
      ]
    },
    {
      "cell_type": "markdown",
      "metadata": {
        "id": "MdXYfywur4h6"
      },
      "source": [
        "*I don't think there is a value of p. If p > .5, Smart will pick h1 and Smart wins. If p < .5, smart will pick h2 and Smart wins. If p = .5, Smart and Crazy will perform the same statistically.*"
      ]
    },
    {
      "cell_type": "markdown",
      "metadata": {
        "id": "5IRQC_Bivt-U"
      },
      "source": [
        "*Below runs an estimate of Smart for different values of p. But of course, when p goes under .5 the graph does not hold any more since Smart will pick h2 instead.*"
      ]
    },
    {
      "cell_type": "code",
      "metadata": {
        "id": "705IGbNqEvz-"
      },
      "source": [
        "import numpy as np\n",
        "import matplotlib.pyplot as plt\n",
        "import seaborn as sns"
      ],
      "execution_count": 7,
      "outputs": []
    },
    {
      "cell_type": "code",
      "metadata": {
        "id": "Z8eYoXrc05TD"
      },
      "source": [
        "experiments = 10**5\n",
        "full = 10**2\n",
        "train = 25\n",
        "test = full - train\n",
        "p_list = np.arange(0, 1, .01)\n",
        "p_smart_wins_list = []\n",
        "\n",
        "for p in p_list:\n",
        "  num_of_ones = int(full * p)\n",
        "  num_of_minus_ones = full - num_of_ones\n",
        "  ones = np.ones(num_of_ones)\n",
        "  minus_ones = 0 - np.ones(num_of_minus_ones)\n",
        "  full_y = np.concatenate((ones, minus_ones))\n",
        "  smart_wins = 0\n",
        "  for _ in range(experiments):\n",
        "    smart = False\n",
        "    np.random.shuffle(full_y)\n",
        "    train_y = full_y[:train]\n",
        "    # print('train_y == 1: {} , train_y == -1: {}'.format(np.sum(train_y == 1), np.sum(train_y == -1)))\n",
        "    \n",
        "    if np.sum(train_y == 1) >= np.sum(train_y == -1):\n",
        "      smart = True\n",
        "\n",
        "    test_y = full_y[train:]\n",
        "    # print('test_y == 1: {} , test_y == -1: {}'.format(np.sum(test_y == 1), np.sum(test_y == -1)))\n",
        "    \n",
        "    if np.sum(test_y == 1) >= np.sum(test_y == -1) and smart:\n",
        "      smart_wins += 1\n",
        "  p_smart_wins = smart_wins / experiments\n",
        "  p_smart_wins_list.append(p_smart_wins)"
      ],
      "execution_count": 22,
      "outputs": []
    },
    {
      "cell_type": "code",
      "metadata": {
        "id": "dSG_YouKFE8c",
        "outputId": "72a71e8c-7084-4c09-af31-ccd1eb5ca1ff",
        "colab": {
          "base_uri": "https://localhost:8080/",
          "height": 356
        }
      },
      "source": [
        "sns.set()\n",
        "plt.figure(figsize=(5,5))\n",
        "plt.plot(p_list, p_smart_wins_list)\n",
        "plt.xlabel('probablity f(x) = +1')\n",
        "plt.ylabel('smart wins probability')\n",
        "plt.plot([0, 1], [.5, .5])\n",
        "plt.plot(.5, .5, marker='o')"
      ],
      "execution_count": 23,
      "outputs": [
        {
          "output_type": "execute_result",
          "data": {
            "text/plain": [
              "[<matplotlib.lines.Line2D at 0x7fdc34042e48>]"
            ]
          },
          "metadata": {
            "tags": []
          },
          "execution_count": 23
        },
        {
          "output_type": "display_data",
          "data": {
            "image/png": "[encoded data removed]",
            "text/plain": [
              "<Figure size 360x360 with 1 Axes>"
            ]
          },
          "metadata": {
            "tags": []
          }
        }
      ]
    }
  ]
}